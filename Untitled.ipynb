{
 "cells": [
  {
   "cell_type": "code",
   "execution_count": 1,
   "id": "228a2a4e",
   "metadata": {},
   "outputs": [],
   "source": [
    "#Importing libraries\n",
    "import numpy as np\n"
   ]
  },
  {
   "cell_type": "code",
   "execution_count": 2,
   "id": "cc78e00f",
   "metadata": {},
   "outputs": [],
   "source": [
    "#Define the position and velocity vectors\n",
    "#This is the input\n",
    "r_vec = np.array((2_500, 16_000, 4_000)) #km\n",
    "v_vec = np.array((-3.0, -1.0, 5.0)) #km/s\n",
    "#The gravitational parameter\n",
    "mu = 3.986e5  #km^3/s^2"
   ]
  },
  {
   "cell_type": "code",
   "execution_count": 3,
   "id": "0aedae01",
   "metadata": {},
   "outputs": [],
   "source": [
    "# First step: Compute magnitudes for the position and velocity vectors\n",
    "# radial velocity and, why not, tangential velocity\n",
    "r = np.linalg.norm(r_vec)\n",
    "v = np.linalg.norm(v_vec)\n",
    "v_r = np.dot(r_vec / r, v_vec)\n",
    "v_t = np.sqrt(v ** 2 - v_r ** 2)"
   ]
  },
  {
   "cell_type": "code",
   "execution_count": 4,
   "id": "a8c0db7d",
   "metadata": {},
   "outputs": [],
   "source": [
    "# specific angular momentum vector and magnitude\n",
    "h_vec = np.cross(r_vec, v_vec)\n",
    "h = np.linalg.norm(h_vec)"
   ]
  },
  {
   "cell_type": "code",
   "execution_count": 5,
   "id": "c555fa55",
   "metadata": {},
   "outputs": [
    {
     "name": "stdout",
     "output_type": "stream",
     "text": [
      "h= 98623.01962523759  km^2/s^2\n"
     ]
    }
   ],
   "source": [
    "print(\"h=\",h,\" km^2/s^2\")"
   ]
  },
  {
   "cell_type": "code",
   "execution_count": 6,
   "id": "cbe7e895",
   "metadata": {},
   "outputs": [
    {
     "name": "stdout",
     "output_type": "stream",
     "text": [
      "i (radians)= 1.0912770348023004\n",
      "i =  62.52556837372287  degrees\n"
     ]
    }
   ],
   "source": [
    "#inclination\n",
    "i=np.arccos(h_vec[2]/h)\n",
    "print(\"i (radians)=\",i)\n",
    "print(\"i = \", i*180/np.pi,\" degrees\")"
   ]
  },
  {
   "cell_type": "code",
   "execution_count": 7,
   "id": "e57ae69b",
   "metadata": {},
   "outputs": [],
   "source": [
    "#Work in radians\n",
    "K=np.array((0,0,1))\n",
    "N_vec = np.cross(K, h_vec)\n",
    "N = np.linalg.norm(N_vec)\n",
    "if (N_vec[1]>=0):\n",
    "    Omega = np.arccos(N_vec[0]/N)\n",
    "else:\n",
    "    Omega = 2 * np.pi - np.arccos(N_vec[0]/N)"
   ]
  },
  {
   "cell_type": "code",
   "execution_count": 8,
   "id": "9da17b46",
   "metadata": {},
   "outputs": [
    {
     "name": "stdout",
     "output_type": "stream",
     "text": [
      "e= 0.4657587799237613\n"
     ]
    }
   ],
   "source": [
    "#eccentricity\n",
    "e_vec = (1/mu)*((v ** 2 - (mu/r))*r_vec - (r*v_r)*v_vec)\n",
    "e = np.linalg.norm(e_vec)\n",
    "print(\"e=\",e)"
   ]
  },
  {
   "cell_type": "code",
   "execution_count": 9,
   "id": "95a2729e",
   "metadata": {},
   "outputs": [],
   "source": [
    "#argument of perigee\n",
    "if (e_vec[2]>=0):\n",
    "    omega = np.arccos(np.dot(e_vec,N_vec)/(N*e))\n",
    "else:\n",
    "    omega = 2 * np.pi - np.arccos(np.dot(e_vec,N_vec)/(N*e))\n",
    "    "
   ]
  },
  {
   "cell_type": "code",
   "execution_count": 10,
   "id": "38ec721b",
   "metadata": {},
   "outputs": [],
   "source": [
    "#true anomaly\n",
    "if (v_r>=0):\n",
    "    theta=np.arccos(np.dot(e_vec,r_vec)/(r*e))\n",
    "else:\n",
    "    theta=2*np.pi - np.arccos(np.dot(e_vec,r_vec)/(r*e))"
   ]
  },
  {
   "cell_type": "code",
   "execution_count": 11,
   "id": "350ae8d0",
   "metadata": {},
   "outputs": [
    {
     "name": "stdout",
     "output_type": "stream",
     "text": [
      "h=  98623.02 km^2/s^2\n",
      "e=  0.47\n",
      "i=  62.53  degrees\n",
      "Omega=  73.74  degrees\n",
      "omega=  22.08  degrees\n",
      "True anomaly=  353.60  degrees\n"
     ]
    }
   ],
   "source": [
    "print(\"h= \",\"%.2f\" %(h), 'km^2/s^2')\n",
    "print('e= ',\"%.2f\" %(e))\n",
    "print('i= ',\"%.2f\" %(i*180/np.pi),' degrees')\n",
    "print('Omega= ',\"%.2f\" %(Omega*180/np.pi),' degrees')\n",
    "print('omega= ',\"%.2f\" %(omega*180/np.pi),' degrees')\n",
    "print('True anomaly= ',\"%.2f\" %(theta*180/np.pi),' degrees')"
   ]
  },
  {
   "cell_type": "code",
   "execution_count": 12,
   "id": "032c1c63",
   "metadata": {},
   "outputs": [
    {
     "name": "stdout",
     "output_type": "stream",
     "text": [
      "radial velocity=  -0.21  km/s\n",
      "r=  16680.83  km\n",
      "v=  5.92  km/s\n"
     ]
    }
   ],
   "source": [
    "print('radial velocity= ',\"%.2f\" %(v_r),' km/s')\n",
    "print('r= ',\"%.2f\" %(r),' km')\n",
    "print('v= ',\"%.2f\" %(v),' km/s')"
   ]
  },
  {
   "cell_type": "code",
   "execution_count": 13,
   "id": "211d2e58",
   "metadata": {},
   "outputs": [
    {
     "name": "stdout",
     "output_type": "stream",
     "text": [
      "a=  31161.57  km\n"
     ]
    }
   ],
   "source": [
    "#semi-major axis\n",
    "a=h ** 2/(mu*(1 - e ** 2))\n",
    "print('a= ',\"%.2f\" %(a),\" km\")"
   ]
  },
  {
   "cell_type": "code",
   "execution_count": 14,
   "id": "17bf7466",
   "metadata": {},
   "outputs": [
    {
     "name": "stdout",
     "output_type": "stream",
     "text": [
      "T=  54744.48  seconds\n"
     ]
    }
   ],
   "source": [
    "#period\n",
    "T=(2*np.pi/np.sqrt(mu))*np.sqrt(a**3)\n",
    "print(\"T= \",\"%.2f\" %(T),\" seconds\")"
   ]
  },
  {
   "cell_type": "code",
   "execution_count": null,
   "id": "8d97cb15",
   "metadata": {},
   "outputs": [],
   "source": []
  }
 ],
 "metadata": {
  "kernelspec": {
   "display_name": "Python 3 (ipykernel)",
   "language": "python",
   "name": "python3"
  },
  "language_info": {
   "codemirror_mode": {
    "name": "ipython",
    "version": 3
   },
   "file_extension": ".py",
   "mimetype": "text/x-python",
   "name": "python",
   "nbconvert_exporter": "python",
   "pygments_lexer": "ipython3",
   "version": "3.11.5"
  }
 },
 "nbformat": 4,
 "nbformat_minor": 5
}
