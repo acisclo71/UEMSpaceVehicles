{
 "cells": [
  {
   "cell_type": "code",
   "execution_count": 1,
   "id": "2cefe563-e58b-4b8a-bafa-eab3843ab05b",
   "metadata": {},
   "outputs": [],
   "source": [
    "import numpy as np"
   ]
  },
  {
   "cell_type": "code",
   "execution_count": 2,
   "id": "e4eaa6e2-4510-46ac-84d6-da45acaa9f1f",
   "metadata": {},
   "outputs": [],
   "source": [
    "#Define constants\n",
    "mu=398600 #km^3/s^2\n",
    "R_E=6378 #km"
   ]
  },
  {
   "cell_type": "code",
   "execution_count": 3,
   "id": "1d96d48f-f2cd-4338-8bb7-52533bec0ce6",
   "metadata": {},
   "outputs": [],
   "source": [
    "def SAM(mu,rp,ra):\n",
    "    h=np.sqrt(2*mu)*np.sqrt(rp*ra/(ra+rp))\n",
    "    return h"
   ]
  },
  {
   "cell_type": "code",
   "execution_count": 4,
   "id": "5aafe4bd-9033-4a45-bb21-a66df3c50185",
   "metadata": {},
   "outputs": [],
   "source": [
    "#Initial orbit\n",
    "r1p = 480 + R_E\n",
    "r1a = 800 + R_E\n",
    "#Target orbit\n",
    "r2p = 16000 + R_E\n",
    "r2a = 16000 + R_E"
   ]
  },
  {
   "cell_type": "code",
   "execution_count": 5,
   "id": "cd4ccc65-cde8-4ed3-b5b1-6fdda029cb4c",
   "metadata": {},
   "outputs": [],
   "source": [
    "#Find the specific angular momenta\n",
    "h1 = SAM(mu,r1p,r1a)\n",
    "h2 = SAM(mu,r2p,r2a)\n",
    "h3 = SAM(mu,r1p,r2a)"
   ]
  },
  {
   "cell_type": "code",
   "execution_count": 6,
   "id": "70707930-781f-4f16-bef0-ceeacf63fc44",
   "metadata": {},
   "outputs": [
    {
     "name": "stdout",
     "output_type": "stream",
     "text": [
      "Delta V at perigee =  1.7225 km/s\n",
      "Delta V at apogee =  1.3297 km/s\n",
      "Delta V =  3.0522 km/s\n"
     ]
    }
   ],
   "source": [
    "#Find Delta V at perigee\n",
    "DVp = np.abs((h1-h3)/r1p)\n",
    "DVa = np.abs((h2-h3)/r2a)\n",
    "print('Delta V at perigee = ',\"%.4f\" %(DVp), 'km/s')\n",
    "print('Delta V at apogee = ',\"%.4f\" %(DVa), 'km/s')\n",
    "print('Delta V = ',\"%.4f\" %(DVp+DVa), 'km/s')"
   ]
  },
  {
   "cell_type": "code",
   "execution_count": 7,
   "id": "b8ea58d9-f30b-43cd-9a98-5f57877070fd",
   "metadata": {},
   "outputs": [
    {
     "name": "stdout",
     "output_type": "stream",
     "text": [
      "1.0175090541733156 7.612679770155256\n"
     ]
    }
   ],
   "source": [
    "#Moon to Earth (simplistic) example\n",
    "r1=385000 #km\n",
    "r2=6878 #km\n",
    "#both circular orbits\n",
    "v1a=np.sqrt(mu/r1)\n",
    "v2p=np.sqrt(mu/r2)\n",
    "print(v1a, v2p)\n"
   ]
  },
  {
   "cell_type": "code",
   "execution_count": 8,
   "id": "431e253e-9a73-422b-b345-e53d88348fd4",
   "metadata": {},
   "outputs": [
    {
     "name": "stdout",
     "output_type": "stream",
     "text": [
      "73395.53728851661\n"
     ]
    }
   ],
   "source": [
    "h3=np.sqrt(2*mu)*np.sqrt(r1*r2/(r1+r2))\n",
    "print(h3)"
   ]
  },
  {
   "cell_type": "code",
   "execution_count": 9,
   "id": "b930dcc2-d9b7-4e6a-b5fd-34dfe7e6376c",
   "metadata": {},
   "outputs": [
    {
     "name": "stdout",
     "output_type": "stream",
     "text": [
      "0.19063775919095224\n",
      "10.671058052997472\n"
     ]
    }
   ],
   "source": [
    "Vha=h3/r1\n",
    "print(Vha)\n",
    "Vhp=h3/r2\n",
    "print(Vhp)"
   ]
  },
  {
   "cell_type": "code",
   "execution_count": 10,
   "id": "05361e79-2ba8-4ab1-a724-f155538979ee",
   "metadata": {},
   "outputs": [],
   "source": [
    "DeltaV = np.abs(Vha-v1a)+np.abs(Vhp-v2p)"
   ]
  },
  {
   "cell_type": "code",
   "execution_count": 11,
   "id": "50359fe9-3552-4e78-8dd7-e29de8d07ebe",
   "metadata": {},
   "outputs": [
    {
     "name": "stdout",
     "output_type": "stream",
     "text": [
      "3.8852495778245792\n"
     ]
    }
   ],
   "source": [
    "print(DeltaV)"
   ]
  },
  {
   "cell_type": "code",
   "execution_count": 12,
   "id": "92b48b5c-fad4-446b-942f-dc64bc998910",
   "metadata": {},
   "outputs": [],
   "source": [
    "ri= 770000 #km intermediate radius for Bi-elliptical Hohmann"
   ]
  },
  {
   "cell_type": "code",
   "execution_count": 13,
   "id": "0d1fbe44-ada6-4131-be12-91366a2f5a91",
   "metadata": {},
   "outputs": [
    {
     "name": "stdout",
     "output_type": "stream",
     "text": [
      "1.1749182526596906\n",
      "0.5874591263298453\n",
      "10.718191452779964\n",
      "0.09573989715872804\n",
      "3.597230911795825\n",
      "3.8852495778245792\n"
     ]
    }
   ],
   "source": [
    "# First of the two bi-elliptical hohmann From Moon to 770.000 km\n",
    "hbe1=SAM(mu,r1,ri)\n",
    "vpbe1 = hbe1/r1\n",
    "vabe1 = hbe1/ri\n",
    "print(vpbe1)\n",
    "print(vabe1)\n",
    "# Second of the two bi-elliptical homann from 770.000 km to LEO \n",
    "hbe2=SAM(mu,r2,ri)\n",
    "vpbe2=hbe2/r2\n",
    "vabe2=hbe2/ri\n",
    "print(vpbe2)\n",
    "print(vabe2)\n",
    "Delta_Vbe = np.abs(vabe2-vabe1)+np.abs(vpbe2-v2p)\n",
    "print(Delta_Vbe)\n",
    "print(DeltaV)\n"
   ]
  },
  {
   "cell_type": "code",
   "execution_count": null,
   "id": "96751a2c-18c0-49e8-bdc0-770b5ba8bdf0",
   "metadata": {},
   "outputs": [],
   "source": []
  }
 ],
 "metadata": {
  "kernelspec": {
   "display_name": "Python 3 (ipykernel)",
   "language": "python",
   "name": "python3"
  },
  "language_info": {
   "codemirror_mode": {
    "name": "ipython",
    "version": 3
   },
   "file_extension": ".py",
   "mimetype": "text/x-python",
   "name": "python",
   "nbconvert_exporter": "python",
   "pygments_lexer": "ipython3",
   "version": "3.11.11"
  }
 },
 "nbformat": 4,
 "nbformat_minor": 5
}
