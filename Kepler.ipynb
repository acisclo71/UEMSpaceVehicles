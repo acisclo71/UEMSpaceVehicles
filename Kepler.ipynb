{
 "cells": [
  {
   "cell_type": "code",
   "execution_count": 1,
   "id": "1d182c69-1017-4f29-8909-363877ae429d",
   "metadata": {},
   "outputs": [],
   "source": [
    "#Computing the time of flight from perigee\n",
    "import numpy as np"
   ]
  },
  {
   "cell_type": "code",
   "execution_count": 3,
   "id": "093794ba-d0fe-4d5e-98ec-3bb702106660",
   "metadata": {},
   "outputs": [],
   "source": [
    "#Definition of constants and variables\n",
    "mu = 3.986e5 #km^3/s^2\n",
    "rp = 9600 #km\n",
    "ra = 21000 #km\n",
    "theta= 120 #degrees\n",
    "#Computing semi-major axis, eccentricity and period\n",
    "theta=theta*np.pi/180\n",
    "e = (ra - rp)/(ra + rp)\n",
    "a = (ra + rp)/2\n",
    "T = 2 * np.pi/np.sqrt(mu)*a**(3/2)"
   ]
  },
  {
   "cell_type": "code",
   "execution_count": 6,
   "id": "3eb1c583-11ed-4821-aab6-92890f166cf6",
   "metadata": {},
   "outputs": [],
   "source": [
    "#Computing Eccentric Anomaly\n",
    "E = 2 * np.arctan(np.sqrt((1-e)/(1+e))*np.tan(theta/2))"
   ]
  },
  {
   "cell_type": "code",
   "execution_count": 8,
   "id": "49f55f0c-68bc-4e59-bdd5-b5944df040e1",
   "metadata": {},
   "outputs": [],
   "source": [
    "#Computing Mean Anomaly\n",
    "M = E - e * np.sin(E)"
   ]
  },
  {
   "cell_type": "code",
   "execution_count": 15,
   "id": "086000f1-41ba-4e11-a089-b2cb9d908c0a",
   "metadata": {},
   "outputs": [
    {
     "name": "stdout",
     "output_type": "stream",
     "text": [
      "4077.05  seconds\n"
     ]
    }
   ],
   "source": [
    "#Computing time of flight from perigee\n",
    "t = M * T/(2 * np.pi)\n",
    "print('%.2f' %(t),\" seconds\")"
   ]
  },
  {
   "cell_type": "markdown",
   "id": "68c2c896-ee07-4e86-8977-02c47a1ce38a",
   "metadata": {},
   "source": [
    "Compute the True Anomaly from time of flight"
   ]
  },
  {
   "cell_type": "code",
   "execution_count": 37,
   "id": "d1811799-eb22-4892-b670-b08d6e3af8fa",
   "metadata": {},
   "outputs": [],
   "source": [
    "#Definition of constants and variables\n",
    "mu = 3.986e5 #km^3/s^2\n",
    "rp = 9600 #km\n",
    "ra = 21000 #km\n",
    "t = 10800 #seconds"
   ]
  },
  {
   "cell_type": "code",
   "execution_count": 38,
   "id": "a480540c-25e7-4f46-b36d-3ceab8d2e1d6",
   "metadata": {},
   "outputs": [
    {
     "name": "stdout",
     "output_type": "stream",
     "text": [
      "e= 0.37254901960784315\n",
      "a= 15300.0  km\n"
     ]
    }
   ],
   "source": [
    "#Computing semi-major axis, eccentricity and period\n",
    "e = (ra - rp)/(ra + rp)\n",
    "a = (ra + rp)/2\n",
    "T = 2 * np.pi/np.sqrt(mu)*a**(3/2)\n",
    "print(\"e=\",e)\n",
    "print(\"a=\",a,\" km\")"
   ]
  },
  {
   "cell_type": "code",
   "execution_count": 39,
   "id": "c0a9f3d4-0690-47a6-8721-57d47a690fe6",
   "metadata": {},
   "outputs": [],
   "source": [
    "#Compute the Mean Anomaly\n",
    "M = 2 * np.pi * t / T"
   ]
  },
  {
   "cell_type": "code",
   "execution_count": 40,
   "id": "98135c12-190c-4e65-a19a-02f69a160c0b",
   "metadata": {},
   "outputs": [
    {
     "name": "stdout",
     "output_type": "stream",
     "text": [
      "3.60293  radians\n",
      "3.47928  radians\n"
     ]
    }
   ],
   "source": [
    "# To find the Eccentric Anomaly, we need to solve the Kepler equation with a numerical approach\n",
    "# We will use Newton-Raphson method\n",
    "# Define tolerance\n",
    "Tol = 1e-8\n",
    "# Computing the first approximation to E\n",
    "if M < np.pi: \n",
    "    E = M + e/2\n",
    "else:\n",
    "    E = M - e/2\n",
    "# Start iteration\n",
    "ratio = 1\n",
    "while ratio > Tol:\n",
    "    # Function / Function Derivative definition\n",
    "    ratio = (E - e * np.sin(E) - M )/(1 - e * np.cos(E))\n",
    "    E = E - ratio \n",
    "print('%.5f' %(M),' radians')\n",
    "print('%.5f' %(E),' radians')\n"
   ]
  },
  {
   "cell_type": "code",
   "execution_count": 45,
   "id": "bcd72e3a-b222-424a-86f0-1a62a512c5cc",
   "metadata": {},
   "outputs": [
    {
     "name": "stdout",
     "output_type": "stream",
     "text": [
      "193.15  degrees\n"
     ]
    }
   ],
   "source": [
    "# Compute the True Anomaly\n",
    "theta = 2 * np.arctan(np.sqrt((1+e)/(1-e))*np.tan(E/2))\n",
    "theta = theta * 180/np.pi\n",
    "# Correct for true anomaly quadrant\n",
    "if theta < 0:\n",
    "    theta = 360 - np.abs(theta)\n",
    "print('%.2f' %(theta),' degrees')"
   ]
  },
  {
   "cell_type": "code",
   "execution_count": 43,
   "id": "393200f2-c902-43df-b344-b21ce8294012",
   "metadata": {},
   "outputs": [],
   "source": []
  },
  {
   "cell_type": "code",
   "execution_count": null,
   "id": "4ae64e59-f5f7-4fa5-b00a-e585c27c2077",
   "metadata": {},
   "outputs": [],
   "source": []
  }
 ],
 "metadata": {
  "kernelspec": {
   "display_name": "Python 3 (ipykernel)",
   "language": "python",
   "name": "python3"
  },
  "language_info": {
   "codemirror_mode": {
    "name": "ipython",
    "version": 3
   },
   "file_extension": ".py",
   "mimetype": "text/x-python",
   "name": "python",
   "nbconvert_exporter": "python",
   "pygments_lexer": "ipython3",
   "version": "3.12.0"
  }
 },
 "nbformat": 4,
 "nbformat_minor": 5
}
