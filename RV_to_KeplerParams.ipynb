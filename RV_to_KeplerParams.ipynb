{
 "cells": [
  {
   "cell_type": "code",
   "execution_count": 1,
   "id": "0763cebb",
   "metadata": {},
   "outputs": [],
   "source": [
    "#Import libraries\n",
    "import numpy as np"
   ]
  },
  {
   "cell_type": "code",
   "execution_count": 2,
   "id": "8772b97b",
   "metadata": {},
   "outputs": [],
   "source": [
    "# create inputs R,V, mu\n",
    "r_vec = np.array((1_000, 5_000, 7_000)) #km\n",
    "v_vec = np.array((3.0, 4.0, 5.0)) #km/s\n",
    "#The gravitational parameter\n",
    "mu = 3.986e5 # km^3/s^2"
   ]
  },
  {
   "cell_type": "code",
   "execution_count": 3,
   "id": "2d78d800",
   "metadata": {},
   "outputs": [
    {
     "name": "stdout",
     "output_type": "stream",
     "text": [
      "r_vec= [1000 5000 7000]\n"
     ]
    }
   ],
   "source": [
    "print(\"r_vec=\",r_vec)"
   ]
  },
  {
   "cell_type": "code",
   "execution_count": 4,
   "id": "ce7e513c",
   "metadata": {},
   "outputs": [],
   "source": [
    "# magnitudes for R and V and radial velocity\n",
    "r=np.linalg.norm(r_vec)\n",
    "v=np.linalg.norm(v_vec)\n",
    "v_r = np.dot(r_vec / r, v_vec)\n",
    "v_t = np.sqrt(v ** 2 - v_r ** 2)"
   ]
  },
  {
   "cell_type": "code",
   "execution_count": 5,
   "id": "cbb1e4da",
   "metadata": {},
   "outputs": [
    {
     "name": "stdout",
     "output_type": "stream",
     "text": [
      "h=  19646.88  km^2/s^2\n",
      "h=  19646.8827043885  km^2/s^2\n"
     ]
    }
   ],
   "source": [
    "# specific angular momentum and its magnitude\n",
    "h_vec=np.cross(r_vec,v_vec)\n",
    "h=np.linalg.norm(h_vec)\n",
    "print(\"h= \",\"%.2f\"%(h),\" km^2/s^2\")\n",
    "print(\"h= \",h,\" km^2/s^2\")"
   ]
  },
  {
   "cell_type": "code",
   "execution_count": 6,
   "id": "6e585eed",
   "metadata": {},
   "outputs": [],
   "source": [
    "#computing the inclination\n",
    "#output in radians\n",
    "#indeces in python start at 0 \n",
    "i=np.arccos(h_vec[2]/h)"
   ]
  },
  {
   "cell_type": "code",
   "execution_count": 7,
   "id": "a5336168",
   "metadata": {},
   "outputs": [],
   "source": [
    "# Define Node vector as the cross product of h and K\n",
    "#First define the K vector\n",
    "K = np.array((0,0,1))\n",
    "#compute the cross product\n",
    "N_vec=np.cross(K,h_vec)\n",
    "N=np.linalg.norm(N_vec)\n",
    "if (N_vec[1]>=0):\n",
    "    Omega = np.arccos(N_vec[0]/N)\n",
    "else:\n",
    "    Omega = 2 * np.pi - np.arccos(N_vec[0]/N)"
   ]
  },
  {
   "cell_type": "code",
   "execution_count": 8,
   "id": "5a0891bc",
   "metadata": {},
   "outputs": [],
   "source": [
    "# define the eccentricity vector and compute its magnitude\n",
    "e_vec = (1/mu)*((v ** 2 - (mu/r))*r_vec - (r*v_r)*v_vec)\n",
    "e = np.linalg.norm(e_vec)"
   ]
  },
  {
   "cell_type": "code",
   "execution_count": 9,
   "id": "df313658",
   "metadata": {},
   "outputs": [
    {
     "name": "stdout",
     "output_type": "stream",
     "text": [
      "e=  0.95\n",
      "e=  0.947540967471404\n"
     ]
    }
   ],
   "source": [
    "print(\"e= \",\"%.2f\"%(e))\n",
    "print(\"e= \",e)"
   ]
  },
  {
   "cell_type": "code",
   "execution_count": 10,
   "id": "2f71fa7e",
   "metadata": {},
   "outputs": [],
   "source": [
    "# argument of the perigee\n",
    "if (e_vec[2]>=0):\n",
    "    omega = np.arccos(np.dot(e_vec,N_vec)/(N*e))\n",
    "else:\n",
    "    omega = 2 * np.pi - np.arccos(np.dot(e_vec,N_vec)/(N*e))"
   ]
  },
  {
   "cell_type": "code",
   "execution_count": 11,
   "id": "7f5f17f9",
   "metadata": {},
   "outputs": [],
   "source": [
    "#true anomaly\n",
    "if (v_r>=0):\n",
    "    theta=np.arccos(np.dot(e_vec,r_vec)/(r*e))\n",
    "else:\n",
    "    theta=2*np.pi - np.arccos(np.dot(e_vec,r_vec)/(r*e))"
   ]
  },
  {
   "cell_type": "code",
   "execution_count": 12,
   "id": "dd2d8af7",
   "metadata": {},
   "outputs": [
    {
     "name": "stdout",
     "output_type": "stream",
     "text": [
      "h=  19646.8827043885  km^2/s^2\n",
      "e=  0.947540967471404\n",
      "i=  124.04786296943432  degrees\n",
      "Omega=  190.6196552761551  degrees\n",
      "omega=  303.09103460599  degrees\n",
      "True anomaly=  159.6116163264222\n"
     ]
    }
   ],
   "source": [
    "print('h= ',h,' km^2/s^2')\n",
    "print('e= ',e)\n",
    "print('i= ',i*180/np.pi,' degrees')\n",
    "print('Omega= ',Omega*180/np.pi,' degrees')\n",
    "print('omega= ',omega*180/np.pi,' degrees')\n",
    "print('True anomaly= ',theta*180/np.pi)"
   ]
  },
  {
   "cell_type": "code",
   "execution_count": null,
   "id": "a547f2b3",
   "metadata": {},
   "outputs": [],
   "source": []
  }
 ],
 "metadata": {
  "kernelspec": {
   "display_name": "Python 3 (ipykernel)",
   "language": "python",
   "name": "python3"
  },
  "language_info": {
   "codemirror_mode": {
    "name": "ipython",
    "version": 3
   },
   "file_extension": ".py",
   "mimetype": "text/x-python",
   "name": "python",
   "nbconvert_exporter": "python",
   "pygments_lexer": "ipython3",
   "version": "3.11.5"
  }
 },
 "nbformat": 4,
 "nbformat_minor": 5
}
