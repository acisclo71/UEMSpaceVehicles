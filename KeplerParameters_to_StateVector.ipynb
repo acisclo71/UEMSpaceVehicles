{
 "cells": [
  {
   "cell_type": "code",
   "execution_count": 1,
   "id": "bfbbc60f",
   "metadata": {},
   "outputs": [],
   "source": [
    "#import libraries\n",
    "import numpy as np\n",
    "from scipy.spatial.transform import Rotation\n",
    "from scipy.sparse import csr_matrix"
   ]
  },
  {
   "cell_type": "code",
   "execution_count": 2,
   "id": "820af93c",
   "metadata": {},
   "outputs": [],
   "source": [
    "#Input orbital parameters and constants\n",
    "#a=7016 #km\n",
    "h=  19646.8827043885  #km^2/s^2\n",
    "e=  0.947540967471404\n",
    "i=  124.04786296943432  #degrees\n",
    "Omega=  190.6196552761551  #degrees\n",
    "omega=  303.09103460599  #degrees\n",
    "theta=  159.6116163264222 #degrees\n",
    "#gravitational parameter\n",
    "mu = 3.986e5 # km^3/s^2"
   ]
  },
  {
   "cell_type": "code",
   "execution_count": 3,
   "id": "d7cb4b47",
   "metadata": {},
   "outputs": [],
   "source": [
    "#compute h from a and e\n",
    "#h=np.sqrt(a*mu*(1 - e ** 2))"
   ]
  },
  {
   "cell_type": "code",
   "execution_count": 4,
   "id": "191b9f77",
   "metadata": {},
   "outputs": [
    {
     "name": "stdout",
     "output_type": "stream",
     "text": [
      "i= 2.165043638879379 radians\n",
      "Omega= 3.3269406035854874\n",
      "omega= 5.2899364871506\n",
      "theta= 2.785748229326004\n"
     ]
    }
   ],
   "source": [
    "#Convert angles from degrees to radians\n",
    "convFactor=\n",
    "i=i*np.pi/180.\n",
    "Omega=Omega*np.pi/180.\n",
    "omega=omega*np.pi/180.\n",
    "theta=theta*np.pi/180.\n",
    "print('i=',i,'radians')\n",
    "print('Omega=',Omega)\n",
    "print('omega=',omega)\n",
    "print('theta=',theta)"
   ]
  },
  {
   "cell_type": "code",
   "execution_count": 5,
   "id": "f661d581",
   "metadata": {},
   "outputs": [
    {
     "name": "stdout",
     "output_type": "stream",
     "text": [
      "r_p= [-8117.71199255  3017.07673187     0.        ]\n",
      "v_p= [-7.06804598  0.20670287  0.        ]\n"
     ]
    }
   ],
   "source": [
    "#Define postion and velocity vectors in the perifocal frame from h,e, theta\n",
    "r_p=h**2/mu/(1+e*np.cos(theta))*np.array((np.cos(theta),np.sin(theta),0))\n",
    "v_p=mu / h * np.array((-np.sin(theta), e + np.cos(theta),0))\n",
    "print(\"r_p=\",r_p)\n",
    "print(\"v_p=\",v_p)"
   ]
  },
  {
   "cell_type": "code",
   "execution_count": 6,
   "id": "f28597d6",
   "metadata": {},
   "outputs": [
    {
     "name": "stdout",
     "output_type": "stream",
     "text": [
      "R1= [[ 0.54597087 -0.83780416  0.        ]\n",
      " [ 0.83780416  0.54597087  0.        ]\n",
      " [ 0.          0.          1.        ]]\n",
      "R2= [[ 1.          0.          0.        ]\n",
      " [ 0.         -0.55988526  0.82857015]\n",
      " [ 0.         -0.82857015  0.55988526]]\n",
      "R3= [[-0.98287219 -0.18428854  0.        ]\n",
      " [ 0.18428854 -0.98287219  0.        ]\n",
      " [ 0.          0.          1.        ]]\n"
     ]
    }
   ],
   "source": [
    "#Define Rotation matrices\n",
    "#First one about Z axis an angle Omega\n",
    "R3=np.array(((np.cos(Omega),np.sin(Omega),0),(-np.sin(Omega),np.cos(Omega),0),(0,0,1)))\n",
    "R2=np.array(((1,0,0),(0,np.cos(i),np.sin(i)),(0,-np.sin(i),-np.cos(i))))\n",
    "R1=np.array(((np.cos(omega),np.sin(omega),0),(-np.sin(omega),np.cos(omega),0),(0,0,1)))\n",
    "print(\"R1=\",R1)\n",
    "print(\"R2=\",R2)\n",
    "print(\"R3=\",R3)"
   ]
  },
  {
   "cell_type": "code",
   "execution_count": 7,
   "id": "65393016",
   "metadata": {},
   "outputs": [
    {
     "name": "stdout",
     "output_type": "stream",
     "text": [
      "QXx= [[-0.45017459 -0.56165615 -0.69417952]\n",
      " [-0.87978792  0.14604769  0.45237517]\n",
      " [-0.15269598  0.81437856  0.55988526]]\n"
     ]
    }
   ],
   "source": [
    "#Multiply matrices to obtain QXx=R1R2R3\n",
    "QXx=R1@R2@R3\n",
    "print(\"QXx=\",QXx)"
   ]
  },
  {
   "cell_type": "code",
   "execution_count": 8,
   "id": "a5565ae2",
   "metadata": {},
   "outputs": [
    {
     "name": "stdout",
     "output_type": "stream",
     "text": [
      "QxX= [[-0.45017459 -0.87978792 -0.15269598]\n",
      " [-0.56165615  0.14604769  0.81437856]\n",
      " [-0.69417952  0.45237517  0.55988526]]\n"
     ]
    }
   ],
   "source": [
    "#Compute the QxX transposing QXx\n",
    "QxX=np.transpose(QXx)\n",
    "print(\"QxX=\",QxX)"
   ]
  },
  {
   "cell_type": "code",
   "execution_count": 21,
   "id": "508f4ecf",
   "metadata": {},
   "outputs": [
    {
     "name": "stdout",
     "output_type": "stream",
     "text": [
      "r= [[1000.]\n",
      " [5000.]\n",
      " [7000.]]  km\n",
      "r= [[1000. 5000. 7000.]]  km\n",
      "v= [[3.]\n",
      " [4.]\n",
      " [5.]]  km/s\n",
      "v= [[3. 4. 5.]]  km/s\n"
     ]
    }
   ],
   "source": [
    "#To follow the algorithm we defined in class,\n",
    "#we need to use the column vector, this is the main difference\n",
    "#in the matrix multiplication\n",
    "\n",
    "#reshape, allow to convert the column vector we defined for the \n",
    "#perifocal frame into a column. The (-1,1) do the conversion from \n",
    "#row to column; if you need from column to row, use reshape with (1,-1)\n",
    "r_pc=r_p.reshape(-1,1)\n",
    "#We perform the matrix computation as always\n",
    "r=QxX@r_pc\n",
    "print(\"r=\",r,\" km\")\n",
    "print(\"r=\",r.reshape(1,-1), \" km\")\n",
    "#convert the perifocal velocity from row to column vector \n",
    "v_pc=v_p.reshape(-1,1)\n",
    "#perform the multiplication as always\n",
    "v=QxX@v_pc\n",
    "print(\"v=\",v, \" km/s\")\n",
    "print(\"v=\",v.reshape(1,-1), \" km/s\")"
   ]
  },
  {
   "cell_type": "code",
   "execution_count": 10,
   "id": "9a19fb70",
   "metadata": {},
   "outputs": [
    {
     "name": "stdout",
     "output_type": "stream",
     "text": [
      "R= [[-0.45017459 -0.56165615 -0.69417952]\n",
      " [-0.87978792  0.14604769  0.45237517]\n",
      " [-0.15269598  0.81437856 -0.55988526]]\n"
     ]
    }
   ],
   "source": [
    "R=Rotation.from_euler(\"ZXZ\",[-omega,-i,-Omega])\n",
    "print(\"R=\",R.as_matrix())"
   ]
  },
  {
   "cell_type": "code",
   "execution_count": 11,
   "id": "7f3f7d49",
   "metadata": {},
   "outputs": [
    {
     "name": "stdout",
     "output_type": "stream",
     "text": [
      "[1000. 5000. 7000.]\n"
     ]
    }
   ],
   "source": [
    "r=r_p@R.as_matrix()\n",
    "print(r,\" km\")"
   ]
  },
  {
   "cell_type": "code",
   "execution_count": 12,
   "id": "07ed670d",
   "metadata": {},
   "outputs": [
    {
     "name": "stdout",
     "output_type": "stream",
     "text": [
      "[3. 4. 5.]\n"
     ]
    }
   ],
   "source": [
    "v=v_p@R.as_matrix()\n",
    "print(v, \" km/s\")"
   ]
  },
  {
   "cell_type": "code",
   "execution_count": 16,
   "id": "9fb36627",
   "metadata": {},
   "outputs": [
    {
     "name": "stdout",
     "output_type": "stream",
     "text": [
      "[1000. 5000. 7000.]  km\n",
      "[3. 4. 5.]  km/s\n"
     ]
    }
   ],
   "source": [
    "r=r_p@QXx\n",
    "print(r,\" km\")\n",
    "v=v_p@QXx\n",
    "print(v,\" km/s\")"
   ]
  },
  {
   "cell_type": "code",
   "execution_count": null,
   "id": "d07a51e4",
   "metadata": {},
   "outputs": [],
   "source": []
  }
 ],
 "metadata": {
  "kernelspec": {
   "display_name": "Python 3 (ipykernel)",
   "language": "python",
   "name": "python3"
  },
  "language_info": {
   "codemirror_mode": {
    "name": "ipython",
    "version": 3
   },
   "file_extension": ".py",
   "mimetype": "text/x-python",
   "name": "python",
   "nbconvert_exporter": "python",
   "pygments_lexer": "ipython3",
   "version": "3.12.0"
  }
 },
 "nbformat": 4,
 "nbformat_minor": 5
}
