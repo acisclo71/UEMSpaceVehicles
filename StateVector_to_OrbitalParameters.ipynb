{
 "cells": [
  {
   "cell_type": "markdown",
   "id": "8a9a1606",
   "metadata": {},
   "source": [
    "#    From State Vector to Orbital Parameters"
   ]
  },
  {
   "cell_type": "markdown",
   "id": "e130dd24",
   "metadata": {},
   "source": [
    "We will start with the Position $\\vec{R}$ and Velocity $\\vec{V}$ vectors measured at a time $t_0$ and our objective is to determine the six orbital parameters: <br>\n",
    "$h$ <br>\n",
    "$e$ <br>\n",
    "$i$ <br>\n",
    "$\\Omega$ <br>\n",
    "$\\omega$ <br>\n",
    "$\\theta$ <br>\n",
    "    Let's implement the algorithm derived in class!"
   ]
  },
  {
   "cell_type": "code",
   "execution_count": 1,
   "id": "977d3c54",
   "metadata": {},
   "outputs": [],
   "source": [
    "#First import the libraries we need\n",
    "import numpy as np"
   ]
  },
  {
   "cell_type": "code",
   "execution_count": 2,
   "id": "6ae11555",
   "metadata": {},
   "outputs": [],
   "source": [
    "#Define the position and velocity vectors\n",
    "#This is the input\n",
    "r_vec = np.array((1_000, 5_000, 7_000)) #km\n",
    "v_vec = np.array((3.0, 4.0, 5.0)) #km/s\n",
    "#The gravitational parameter\n",
    "mu = 3.986e5 # km^3/s^2"
   ]
  },
  {
   "cell_type": "markdown",
   "id": "f88892a4",
   "metadata": {},
   "source": [
    "Computing the magnitudes of position and velocity; and the components of the velocity is straight forward <br>\n",
    "$v_r = \\vec{v} \\cdot\\hat{r}$"
   ]
  },
  {
   "cell_type": "code",
   "execution_count": 3,
   "id": "32cba2f8",
   "metadata": {},
   "outputs": [],
   "source": [
    "# First step: Compute magnitudes for the position and velocity vectors\n",
    "# radial velocity and, why not, tangential velocity\n",
    "r = np.linalg.norm(r_vec)\n",
    "v = np.linalg.norm(v_vec)\n",
    "v_r = np.dot(r_vec / r, v_vec)\n",
    "v_t = np.sqrt(v ** 2 - v_r ** 2)"
   ]
  },
  {
   "cell_type": "markdown",
   "id": "558f16e9",
   "metadata": {},
   "source": [
    "The second step is to compute the specific angular momentum vector, $\\vec{h}=\\vec{r} \\times \\vec{v}$ and its magnitude"
   ]
  },
  {
   "cell_type": "code",
   "execution_count": 4,
   "id": "59706f3b",
   "metadata": {},
   "outputs": [],
   "source": [
    "# Second step: find the specific angular momentum vector and its magnitude\n",
    "h_vec = np.cross(r_vec, v_vec)\n",
    "h = np.linalg.norm(h_vec)"
   ]
  },
  {
   "cell_type": "markdown",
   "id": "ab3938a2",
   "metadata": {},
   "source": [
    "We now the inclination is the angle between the specific angular momentum and the Z axis of the reference frame:<br>\n",
    "$ i = \\cos^{-1}(\\frac{h_z}{h})$"
   ]
  },
  {
   "cell_type": "code",
   "execution_count": 5,
   "id": "be10f8a0",
   "metadata": {},
   "outputs": [],
   "source": [
    "i = np.arccos(h_vec[2] / h)"
   ]
  },
  {
   "cell_type": "markdown",
   "id": "809a8704",
   "metadata": {},
   "source": [
    "For the right ascension of the ascending node, first we need to define a vector in the direction pointing to the ascending node, this is defined as the normal vector to the specific angular momentum and the Z axis:<br>\n",
    "$\\vec{N} = \\hat{K} \\times \\vec{h}$ <br>\n",
    "Once we have $\\vec{N}$ defined, the right ascension of the ascending node $\\Omega$ is the angle between this vector and the X vector of the reference frame, so we can computed as:<br>\n",
    "$\\Omega = cos^{-1}(\\frac{N_x}{N})$<br>\n",
    "But we need to be carefull to define the correct quadrant, to do that we observe the $N_y$ component, if it is postive then the solution is given by the above equation, if it is negative, then we need to substract it from $360^{o}$:"
   ]
  },
  {
   "cell_type": "code",
   "execution_count": 6,
   "id": "9825aa5b",
   "metadata": {},
   "outputs": [],
   "source": [
    "#Work in radians\n",
    "K=np.array((0,0,1))\n",
    "N_vec = np.cross(K, h_vec)\n",
    "N = np.linalg.norm(N_vec)\n",
    "if (N_vec[1]>=0):\n",
    "    Omega = np.arccos(N_vec[0]/N)\n",
    "else:\n",
    "    Omega = 2 * np.pi - np.arccos(N_vec[0]/N)"
   ]
  },
  {
   "cell_type": "markdown",
   "id": "021d847d",
   "metadata": {},
   "source": [
    "Next step, the eccentricity, first the vector and then its magnitude.<br>\n",
    "$\\vec{e}=\\frac{1}{\\mu}[(v^2-\\frac{\\mu}{r})\\vec{r} - rv_r\\vec{v}]$ <br>\n",
    "and its magnitude with the norm"
   ]
  },
  {
   "cell_type": "code",
   "execution_count": 7,
   "id": "34e5a95e",
   "metadata": {},
   "outputs": [],
   "source": [
    "# magnitude\n",
    "e_vec = (1/mu)*((v ** 2 - (mu/r))*r_vec - (r*v_r)*v_vec)\n",
    "e = np.linalg.norm(e_vec)\n"
   ]
  },
  {
   "cell_type": "markdown",
   "id": "2167b1c4",
   "metadata": {},
   "source": [
    "We are almost there, we need to find the argument of the perigee $\\omega$, which is defined as the angle between the ascending node and the perigee. And we have two vectors in each of those directions: $\\vec{N}$ and $\\vec{e}$ <br>\n",
    "The argument of the perigee is then computed by:<br>\n",
    "$ \\omega = cos^{-1} (\\frac{\\vec{e}\\cdot\\vec{N}}{eN}) $ <br>\n",
    "As with $\\Omega$, we need to correct for the quadrant, in this case we use the z component of the $\\vec{e}$ to discriminate, if it negative, we need to correct."
   ]
  },
  {
   "cell_type": "code",
   "execution_count": 8,
   "id": "278aa9b4",
   "metadata": {},
   "outputs": [],
   "source": [
    "if (e_vec[2]>=0):\n",
    "    omega = np.arccos(np.dot(e_vec,N_vec)/(N*e))\n",
    "else:\n",
    "    omega = 2 * np.pi - np.arccos(np.dot(e_vec,N_vec)/(N*e))"
   ]
  },
  {
   "cell_type": "markdown",
   "id": "b95536d7",
   "metadata": {},
   "source": [
    "And, finally, the true anomaly $\\theta$; which is the angle between the position vector $\\vec{r}$ and the eccentricity vector $\\vec{e}$.<br>\n",
    "$\\theta = cos^{-1}(\\frac{\\vec{e},\\vec{r}}{e r})$<br>\n",
    "again, we need to be careful with the cuadrant, so we will use the radial velocity, if it is positive is in the upper part of the orbit, flying away from the perigee."
   ]
  },
  {
   "cell_type": "code",
   "execution_count": 9,
   "id": "38a723aa",
   "metadata": {},
   "outputs": [],
   "source": [
    "if (v_r>=0):\n",
    "    theta=np.arccos(np.dot(e_vec,r_vec)/(r*e))\n",
    "else:\n",
    "    theta=2*np.pi - np.arccos(np.dot(e_vec,r_vec)/(r*e))"
   ]
  },
  {
   "cell_type": "code",
   "execution_count": 10,
   "id": "4adf0c6f",
   "metadata": {},
   "outputs": [
    {
     "name": "stdout",
     "output_type": "stream",
     "text": [
      "h=  19646.8827043885  km^2/s^2\n",
      "e=  0.947540967471404\n",
      "i=  124.04786296943432  degrees\n",
      "Omega=  190.6196552761551  degrees\n",
      "omega=  303.09103460599  degrees\n",
      "True anomaly=  159.6116163264222\n"
     ]
    }
   ],
   "source": [
    "print('h= ',h,' km^2/s^2')\n",
    "print('e= ',e)\n",
    "print('i= ',i*180/np.pi,' degrees')\n",
    "print('Omega= ',Omega*180/np.pi,' degrees')\n",
    "print('omega= ',omega*180/np.pi,' degrees')\n",
    "print('True anomaly= ',theta*180/np.pi)"
   ]
  },
  {
   "cell_type": "code",
   "execution_count": 11,
   "id": "b2b29db9",
   "metadata": {},
   "outputs": [
    {
     "name": "stdout",
     "output_type": "stream",
     "text": [
      "radial velocity=  6.697263122599659  km/s\n",
      "r=  8660.254037844386  km\n",
      "v=  7.0710678118654755  km/s\n"
     ]
    }
   ],
   "source": [
    "print('radial velocity= ',v_r,' km/s')\n",
    "print('r= ',r,' km')\n",
    "print('v= ',v,' km/s')"
   ]
  },
  {
   "cell_type": "code",
   "execution_count": 12,
   "id": "c77cccb9",
   "metadata": {},
   "outputs": [],
   "source": [
    "#semi-major axis\n",
    "a = (h ** 2)/(mu*(1 - e ** 2))"
   ]
  },
  {
   "cell_type": "code",
   "execution_count": 13,
   "id": "dbc3e2be",
   "metadata": {},
   "outputs": [
    {
     "name": "stdout",
     "output_type": "stream",
     "text": [
      "a=  9478.576758223904  km\n"
     ]
    }
   ],
   "source": [
    "print(\"a= \",a, \" km\")"
   ]
  }
 ],
 "metadata": {
  "kernelspec": {
   "display_name": "Python 3 (ipykernel)",
   "language": "python",
   "name": "python3"
  },
  "language_info": {
   "codemirror_mode": {
    "name": "ipython",
    "version": 3
   },
   "file_extension": ".py",
   "mimetype": "text/x-python",
   "name": "python",
   "nbconvert_exporter": "python",
   "pygments_lexer": "ipython3",
   "version": "3.12.0"
  }
 },
 "nbformat": 4,
 "nbformat_minor": 5
}
